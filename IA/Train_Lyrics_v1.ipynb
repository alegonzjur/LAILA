{
 "cells": [
  {
   "cell_type": "markdown",
   "metadata": {},
   "source": [
    "## Carga de librerías"
   ]
  },
  {
   "cell_type": "code",
   "execution_count": null,
   "metadata": {},
   "outputs": [
    {
     "name": "stderr",
     "output_type": "stream",
     "text": [
      "f:\\Archivosdelprograma\\Environments\\lyrics_gen\\lib\\site-packages\\h5py\\__init__.py:36: UserWarning: h5py is running against HDF5 1.14.6 when it was built against 1.14.5, this may cause problems\n",
      "  _warn((\"h5py is running against HDF5 {0} when it was built against {1}, \"\n"
     ]
    },
    {
     "name": "stdout",
     "output_type": "stream",
     "text": [
      "WARNING:tensorflow:From f:\\Archivosdelprograma\\Environments\\lyrics_gen\\lib\\site-packages\\tf_keras\\src\\losses.py:2976: The name tf.losses.sparse_softmax_cross_entropy is deprecated. Please use tf.compat.v1.losses.sparse_softmax_cross_entropy instead.\n",
      "\n"
     ]
    }
   ],
   "source": [
    "import torch\n",
    "from datasets import load_dataset\n",
    "from transformers import GPT2TokenizerFast, GPT2LMHeadModel, TrainingArguments, Trainer \n",
    "from sklearn.model_selection import train_test_split\n",
    "\n",
    "import os\n",
    "os.environ[\"TF_ENABLE_ONEDNN_OPTS\"] = \"0\""
   ]
  },
  {
   "cell_type": "code",
   "execution_count": 2,
   "metadata": {},
   "outputs": [
    {
     "name": "stdout",
     "output_type": "stream",
     "text": [
      "CUDA disponible: True\n",
      "Dispositivo actual: NVIDIA GeForce RTX 3060\n"
     ]
    }
   ],
   "source": [
    "# Comprobar funcionamiento de CUDA.\n",
    "torch.cuda.empty_cache()\n",
    "print(\"CUDA disponible:\", torch.cuda.is_available())\n",
    "print(\"Dispositivo actual:\", torch.cuda.get_device_name(0))"
   ]
  },
  {
   "cell_type": "markdown",
   "metadata": {},
   "source": [
    "## Carga del dataset"
   ]
  },
  {
   "cell_type": "code",
   "execution_count": 3,
   "metadata": {},
   "outputs": [
    {
     "data": {
      "application/vnd.jupyter.widget-view+json": {
       "model_id": "6635b0332d7042a29d944b2e97986ab8",
       "version_major": 2,
       "version_minor": 0
      },
      "text/plain": [
       "Loading dataset shards:   0%|          | 0/19 [00:00<?, ?it/s]"
      ]
     },
     "metadata": {},
     "output_type": "display_data"
    }
   ],
   "source": [
    "# Cargamos dataset desde HuggingFace.\n",
    "dataset = load_dataset(\"sebastiandizon/genius-song-lyrics\", split=\"train\")"
   ]
  },
  {
   "cell_type": "markdown",
   "metadata": {},
   "source": [
    "## Filtrado del dataset\n",
    "\n",
    "En el modelo anterior entrenamos con todos los datos. En este caso, nos quedaremos los registros en inglés, y después dividiremos el dataset en 3 según los géneros rock, pop y rap."
   ]
  },
  {
   "cell_type": "code",
   "execution_count": 4,
   "metadata": {},
   "outputs": [],
   "source": [
    "# Filtramos letras de canciones en inglés.\n",
    "dataset_en = dataset.filter(lambda x: x[\"language\"] == \"en\")"
   ]
  },
  {
   "cell_type": "code",
   "execution_count": 5,
   "metadata": {},
   "outputs": [],
   "source": [
    "# Con el dataset ya filtrado en inglés, dividimos en 3 para rock, pop y rap.\n",
    "rock_dataset = dataset_en.filter(lambda x: x[\"tag\"].lower() == \"rock\")\n",
    "pop_dataset = dataset_en.filter(lambda x: x[\"tag\"].lower() == \"pop\")\n",
    "rap_dataset = dataset_en.filter(lambda x: x[\"tag\"].lower() == \"rap\")"
   ]
  },
  {
   "cell_type": "code",
   "execution_count": 6,
   "metadata": {},
   "outputs": [
    {
     "name": "stdout",
     "output_type": "stream",
     "text": [
      "Rock: 633308 canciones, Pop: 1393559 canciones, Rap: 964605 canciones\n"
     ]
    }
   ],
   "source": [
    "# Comprobamos que la filtración haya sido correcta.\n",
    "print(f\"Rock: {len(rock_dataset)} canciones, Pop: {len(pop_dataset)} canciones, Rap: {len(rap_dataset)} canciones\")"
   ]
  },
  {
   "cell_type": "markdown",
   "metadata": {},
   "source": [
    "A continuación, dividimos en train y test. Para ello, creamos una función que la aplique a los 3 datasets."
   ]
  },
  {
   "cell_type": "code",
   "execution_count": null,
   "metadata": {},
   "outputs": [],
   "source": [
    "# # Función para dividir en train (90%) y test (10%)\n",
    "# def split_dataset(dataset):\n",
    "#     dataset = list(dataset)  # Convertir a lista para dividir\n",
    "#     train_data, test_data = train_test_split(dataset, test_size=0.1, random_state=42)\n",
    "#     return train_data, test_data"
   ]
  },
  {
   "cell_type": "code",
   "execution_count": null,
   "metadata": {},
   "outputs": [],
   "source": [
    "# rock_train, rock_test = split_dataset(rock_dataset)"
   ]
  },
  {
   "cell_type": "code",
   "execution_count": null,
   "metadata": {},
   "outputs": [],
   "source": [
    "# pop_train, pop_test = split_dataset(pop_dataset)"
   ]
  },
  {
   "cell_type": "code",
   "execution_count": null,
   "metadata": {},
   "outputs": [],
   "source": [
    "# Aplicmaos la función.\n",
    "# rap_train, rap_test = split_dataset(rap_dataset)"
   ]
  },
  {
   "cell_type": "code",
   "execution_count": null,
   "metadata": {},
   "outputs": [
    {
     "name": "stdout",
     "output_type": "stream",
     "text": [
      "Rock - Train: 569977, Test: 63331\n",
      "Pop - Train: 1254203, Test: 139356\n",
      "Rap - Train: 868144, Test: 96461\n"
     ]
    }
   ],
   "source": [
    "# Comprobamos que el tamaño de los conjuntos de entrenamiento y test sea correcto.\n",
    "# print(f\"Rock - Train: {len(rock_train)}, Test: {len(rock_test)}\")\n",
    "# print(f\"Pop - Train: {len(pop_train)}, Test: {len(pop_test)}\")\n",
    "# print(f\"Rap - Train: {len(rap_train)}, Test: {len(rap_test)}\")"
   ]
  },
  {
   "cell_type": "markdown",
   "metadata": {},
   "source": [
    "## Tokenización y preprocesamiento"
   ]
  },
  {
   "cell_type": "code",
   "execution_count": 7,
   "metadata": {},
   "outputs": [],
   "source": [
    "# Carga el tokenizador.\n",
    "tokenizer = GPT2TokenizerFast.from_pretrained(\"gpt2-medium\")"
   ]
  },
  {
   "cell_type": "code",
   "execution_count": 8,
   "metadata": {},
   "outputs": [],
   "source": [
    "tokenizer.add_special_tokens({\"additional_special_tokens\": [\"<|endoflyric|>\"], \"pad_token\": \"<|pad|>\"})\n",
    "tokenizer.pad_token = tokenizer.eos_token  # Usa <|endoftext|> como padding"
   ]
  },
  {
   "cell_type": "markdown",
   "metadata": {},
   "source": [
    "Creamos las funciones de formateo y de tokenización."
   ]
  },
  {
   "cell_type": "code",
   "execution_count": 11,
   "metadata": {},
   "outputs": [],
   "source": [
    "# Función de formateo\n",
    "def format_lyrics(example):\n",
    "    \"\"\"Formatea cada ejemplo sin incluir el género.\"\"\"\n",
    "    text = (\n",
    "        f\"[Artista: {example['artist']}]\\n\"\n",
    "        f\"[Canción: {example['title']}]\\n\"\n",
    "        f\"{example['lyrics']}\\n<|endoflyric|>\"\n",
    "    )\n",
    "    return {\"text\": text}\n",
    "\n",
    "def tokenize_fn(examples):\n",
    "    \"\"\"Tokeniza el texto y crea labels para la pérdida.\"\"\"\n",
    "    tokens = tokenizer(\n",
    "        examples[\"text\"],\n",
    "        truncation=True,\n",
    "        max_length=512,\n",
    "        padding=\"max_length\",\n",
    "    )\n",
    "    tokens[\"labels\"] = tokens[\"input_ids\"].copy()  # <-- Añadir etiquetas para la pérdida\n",
    "    return tokens\n"
   ]
  },
  {
   "cell_type": "code",
   "execution_count": null,
   "metadata": {},
   "outputs": [],
   "source": [
    "# rock_train = [format_lyrics(x) for x in rock_train]\n",
    "# rock_test = [format_lyrics(x) for x in rock_test]"
   ]
  },
  {
   "cell_type": "code",
   "execution_count": null,
   "metadata": {},
   "outputs": [],
   "source": [
    "# pop_train = [format_lyrics(x) for x in pop_train]\n",
    "# pop_test = [format_lyrics(x) for x in pop_test]"
   ]
  },
  {
   "cell_type": "code",
   "execution_count": null,
   "metadata": {},
   "outputs": [],
   "source": [
    "# rap_train = [format_lyrics(x) for x in rap_train]\n",
    "# rap_test = [format_lyrics(x) for x in rap_test]"
   ]
  },
  {
   "cell_type": "markdown",
   "metadata": {},
   "source": [
    "Aplicamos el preprocesamiento a los datasets."
   ]
  },
  {
   "cell_type": "code",
   "execution_count": null,
   "metadata": {},
   "outputs": [],
   "source": [
    "# rock_train = [tokenize_fn(x) for x in rock_train]\n",
    "# rock_test = [tokenize_fn(x) for x in rock_test]"
   ]
  },
  {
   "cell_type": "code",
   "execution_count": null,
   "metadata": {},
   "outputs": [],
   "source": [
    "# pop_train = [tokenize_fn(x) for x in pop_train]\n",
    "# pop_test = [tokenize_fn(x) for x in pop_test]"
   ]
  },
  {
   "cell_type": "code",
   "execution_count": null,
   "metadata": {},
   "outputs": [],
   "source": [
    "# rap_train = [tokenize_fn(x) for x in rap_train]\n",
    "# rap_test = [tokenize_fn(x) for x in rap_test]"
   ]
  },
  {
   "cell_type": "markdown",
   "metadata": {},
   "source": [
    "## Configuración del entrenamiento\n",
    "\n",
    "Implementamos una función que contenga el entrenamiento completo para ejecutarla con los 3 datasets."
   ]
  },
  {
   "cell_type": "code",
   "execution_count": 12,
   "metadata": {},
   "outputs": [
    {
     "data": {
      "application/vnd.jupyter.widget-view+json": {
       "model_id": "fcb71d1bea0c438eafc01427ec3ed459",
       "version_major": 2,
       "version_minor": 0
      },
      "text/plain": [
       "Map:   0%|          | 0/633308 [00:00<?, ? examples/s]"
      ]
     },
     "metadata": {},
     "output_type": "display_data"
    },
    {
     "name": "stdout",
     "output_type": "stream",
     "text": [
      "Entrenando modelo para rock...\n"
     ]
    },
    {
     "name": "stderr",
     "output_type": "stream",
     "text": [
      "`loss_type=None` was set in the config but it is unrecognised.Using the default loss: `ForCausalLMLoss`.\n"
     ]
    },
    {
     "data": {
      "text/html": [
       "\n",
       "    <div>\n",
       "      \n",
       "      <progress value='1000' max='1000' style='width:300px; height:20px; vertical-align: middle;'></progress>\n",
       "      [1000/1000 24:37:13, Epoch 0/1]\n",
       "    </div>\n",
       "    <table border=\"1\" class=\"dataframe\">\n",
       "  <thead>\n",
       " <tr style=\"text-align: left;\">\n",
       "      <th>Step</th>\n",
       "      <th>Training Loss</th>\n",
       "      <th>Validation Loss</th>\n",
       "    </tr>\n",
       "  </thead>\n",
       "  <tbody>\n",
       "    <tr>\n",
       "      <td>500</td>\n",
       "      <td>1.432400</td>\n",
       "      <td>1.409617</td>\n",
       "    </tr>\n",
       "    <tr>\n",
       "      <td>1000</td>\n",
       "      <td>1.409100</td>\n",
       "      <td>1.398691</td>\n",
       "    </tr>\n",
       "  </tbody>\n",
       "</table><p>"
      ],
      "text/plain": [
       "<IPython.core.display.HTML object>"
      ]
     },
     "metadata": {},
     "output_type": "display_data"
    },
    {
     "data": {
      "application/vnd.jupyter.widget-view+json": {
       "model_id": "53582536287941d09407c59a391062ec",
       "version_major": 2,
       "version_minor": 0
      },
      "text/plain": [
       "Map:   0%|          | 0/1393559 [00:00<?, ? examples/s]"
      ]
     },
     "metadata": {},
     "output_type": "display_data"
    },
    {
     "data": {
      "application/vnd.jupyter.widget-view+json": {
       "model_id": "646db5edf1f34f8b976f48a4d14256ed",
       "version_major": 2,
       "version_minor": 0
      },
      "text/plain": [
       "Map:   0%|          | 0/1393559 [00:00<?, ? examples/s]"
      ]
     },
     "metadata": {},
     "output_type": "display_data"
    },
    {
     "name": "stderr",
     "output_type": "stream",
     "text": [
      "f:\\Archivosdelprograma\\Environments\\lyrics_gen\\lib\\site-packages\\transformers\\training_args.py:1611: FutureWarning: `evaluation_strategy` is deprecated and will be removed in version 4.46 of 🤗 Transformers. Use `eval_strategy` instead\n",
      "  warnings.warn(\n"
     ]
    },
    {
     "name": "stdout",
     "output_type": "stream",
     "text": [
      "Entrenando modelo para pop...\n"
     ]
    },
    {
     "data": {
      "text/html": [
       "\n",
       "    <div>\n",
       "      \n",
       "      <progress value='1000' max='1000' style='width:300px; height:20px; vertical-align: middle;'></progress>\n",
       "      [1000/1000 45:11:32, Epoch 0/1]\n",
       "    </div>\n",
       "    <table border=\"1\" class=\"dataframe\">\n",
       "  <thead>\n",
       " <tr style=\"text-align: left;\">\n",
       "      <th>Step</th>\n",
       "      <th>Training Loss</th>\n",
       "      <th>Validation Loss</th>\n",
       "    </tr>\n",
       "  </thead>\n",
       "  <tbody>\n",
       "    <tr>\n",
       "      <td>500</td>\n",
       "      <td>1.441300</td>\n",
       "      <td>1.367713</td>\n",
       "    </tr>\n",
       "    <tr>\n",
       "      <td>1000</td>\n",
       "      <td>1.441900</td>\n",
       "      <td>1.358317</td>\n",
       "    </tr>\n",
       "  </tbody>\n",
       "</table><p>"
      ],
      "text/plain": [
       "<IPython.core.display.HTML object>"
      ]
     },
     "metadata": {},
     "output_type": "display_data"
    },
    {
     "data": {
      "application/vnd.jupyter.widget-view+json": {
       "model_id": "f8a99dd60d8c4a0cabe8457e7419523a",
       "version_major": 2,
       "version_minor": 0
      },
      "text/plain": [
       "Map:   0%|          | 0/964605 [00:00<?, ? examples/s]"
      ]
     },
     "metadata": {},
     "output_type": "display_data"
    },
    {
     "data": {
      "application/vnd.jupyter.widget-view+json": {
       "model_id": "569a32676ef148c2be2d4c499bd129c2",
       "version_major": 2,
       "version_minor": 0
      },
      "text/plain": [
       "Map:   0%|          | 0/964605 [00:00<?, ? examples/s]"
      ]
     },
     "metadata": {},
     "output_type": "display_data"
    },
    {
     "name": "stderr",
     "output_type": "stream",
     "text": [
      "f:\\Archivosdelprograma\\Environments\\lyrics_gen\\lib\\site-packages\\transformers\\training_args.py:1611: FutureWarning: `evaluation_strategy` is deprecated and will be removed in version 4.46 of 🤗 Transformers. Use `eval_strategy` instead\n",
      "  warnings.warn(\n"
     ]
    },
    {
     "name": "stdout",
     "output_type": "stream",
     "text": [
      "Entrenando modelo para rap...\n"
     ]
    },
    {
     "data": {
      "text/html": [
       "\n",
       "    <div>\n",
       "      \n",
       "      <progress value='1000' max='1000' style='width:300px; height:20px; vertical-align: middle;'></progress>\n",
       "      [1000/1000 25:55:29, Epoch 0/1]\n",
       "    </div>\n",
       "    <table border=\"1\" class=\"dataframe\">\n",
       "  <thead>\n",
       " <tr style=\"text-align: left;\">\n",
       "      <th>Step</th>\n",
       "      <th>Training Loss</th>\n",
       "      <th>Validation Loss</th>\n",
       "    </tr>\n",
       "  </thead>\n",
       "  <tbody>\n",
       "    <tr>\n",
       "      <td>500</td>\n",
       "      <td>2.695500</td>\n",
       "      <td>3.190799</td>\n",
       "    </tr>\n",
       "    <tr>\n",
       "      <td>1000</td>\n",
       "      <td>2.726600</td>\n",
       "      <td>3.171878</td>\n",
       "    </tr>\n",
       "  </tbody>\n",
       "</table><p>"
      ],
      "text/plain": [
       "<IPython.core.display.HTML object>"
      ]
     },
     "metadata": {},
     "output_type": "display_data"
    }
   ],
   "source": [
    "# --- 7. Aplicar `format_lyrics` y `tokenize_fn` ---\n",
    "for dataset_name, dataset in zip([\"rock\", \"pop\", \"rap\"], [rock_dataset, pop_dataset, rap_dataset]):\n",
    "    dataset = dataset.map(format_lyrics)\n",
    "    dataset = dataset.map(tokenize_fn, batched=True, batch_size=1000)\n",
    "\n",
    "    # --- 8. Dividir en train/test (90%-10%) ---\n",
    "    total_samples = len(dataset)\n",
    "    test_size = int(total_samples * 0.1)\n",
    "    \n",
    "    train_dataset = dataset.select(range(test_size, total_samples))\n",
    "    test_dataset = dataset.select(range(test_size))\n",
    "\n",
    "    # --- 9. Cargar el modelo GPT-2 ---\n",
    "    model = GPT2LMHeadModel.from_pretrained(\"gpt2-medium\")\n",
    "    model.resize_token_embeddings(len(tokenizer))\n",
    "\n",
    "    # --- 10. Definir los parámetros de entrenamiento ---\n",
    "    training_args = TrainingArguments(\n",
    "        output_dir=f\"./lyrics_generator_{dataset_name}\",\n",
    "        num_train_epochs=2,\n",
    "        per_device_train_batch_size=4,\n",
    "        per_device_eval_batch_size=4,\n",
    "        learning_rate=3e-5,\n",
    "        evaluation_strategy=\"steps\",\n",
    "        eval_steps=500,\n",
    "        logging_steps=100,\n",
    "        fp16=True,\n",
    "        gradient_accumulation_steps=4,\n",
    "        max_steps=1000,\n",
    "        report_to=\"none\",\n",
    "    )\n",
    "\n",
    "    # --- 11. Inicializar el Trainer ---\n",
    "    trainer = Trainer(\n",
    "        model=model,\n",
    "        args=training_args,\n",
    "        train_dataset=train_dataset,\n",
    "        eval_dataset=test_dataset,\n",
    "    )\n",
    "\n",
    "    # --- 12. Entrenar el modelo ---\n",
    "    print(f\"Entrenando modelo para {dataset_name}...\")\n",
    "    trainer.train()"
   ]
  }
 ],
 "metadata": {
  "kernelspec": {
   "display_name": "Python 3",
   "language": "python",
   "name": "python3"
  },
  "language_info": {
   "codemirror_mode": {
    "name": "ipython",
    "version": 3
   },
   "file_extension": ".py",
   "mimetype": "text/x-python",
   "name": "python",
   "nbconvert_exporter": "python",
   "pygments_lexer": "ipython3",
   "version": "3.10.16"
  }
 },
 "nbformat": 4,
 "nbformat_minor": 2
}
